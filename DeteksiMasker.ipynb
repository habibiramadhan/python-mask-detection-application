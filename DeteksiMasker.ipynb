{
 "cells": [
  {
   "cell_type": "code",
   "execution_count": 1,
   "metadata": {},
   "outputs": [],
   "source": [
    "import cv2"
   ]
  },
  {
   "cell_type": "code",
   "execution_count": 2,
   "metadata": {},
   "outputs": [],
   "source": [
    "face_cascade = cv2.CascadeClassifier('haarcascade/haarcascade_frontalface_default.xml')\n",
    "noseCascade = cv2.CascadeClassifier(\"haarcascade/Nariz.xml\")"
   ]
  },
  {
   "cell_type": "code",
   "execution_count": null,
   "metadata": {},
   "outputs": [],
   "source": [
    "video_capture = cv2.VideoCapture(0)\n",
    "mask_on = False\n",
    "\n",
    "while True:\n",
    "    #ambil gambar per-frame\n",
    "    ret, frame = video_capture.read()\n",
    "    gray = cv2.cvtColor(frame, cv2.COLOR_BGR2GRAY)\n",
    "    wajah = face_cascade.detectMultiScale(gray, 1.1, 5)\n",
    "    \n",
    "    #gambar kotak di wajah\n",
    "    for (x, y, w, h) in wajah:\n",
    "        roi_gray = gray[y:y+h, x:x+w]\n",
    "        roi_color = frame[y:y+h, x:x+w]\n",
    "        if mask_on:\n",
    "            cv2.rectangle(frame,(x,y),(x+w,y+h),(0,255,0),3)\n",
    "            cv2.putText(frame,'Mask On',(x, y),cv2.FONT_HERSHEY_SIMPLEX,2,(0,255,0),5)\n",
    "        else:\n",
    "            cv2.rectangle(frame,(x,y),(x+w,y+h),(0,0,255),3)\n",
    "            cv2.putText(frame,'Mask Off',(x, y),cv2.FONT_HERSHEY_SIMPLEX,2,(0,0,255),5)\n",
    "    \n",
    "    #deteksi kotak hidung\n",
    "    hidung = noseCascade.detectMultiScale(roi_gray, 1.18, 35,)\n",
    "    for (sx, sy, sw, sh) in hidung:\n",
    "        cv2.rectangle(roi_color, (sh,sy),(sx+sw, sy+sh),(255,0,0),2)\n",
    "        cv2.putText(frame,'Hidung',(x + sx,y + sy), 1, 1,(0,255,0),1)\n",
    "        \n",
    "    if len(hidung)>0:\n",
    "        mask_on = False\n",
    "    else:\n",
    "        mask_on = True\n",
    "        \n",
    "    cv2.putText(frame,'Jumlah Wajah : '+ str(len(wajah)),(30,30),cv2.FONT_HERSHEY_SIMPLEX,1,(255,0,0),2)\n",
    "    cv2.imshow('Video',frame)\n",
    "    \n",
    "    if cv2.waitKey(1) & 0xFF == ord('q'):\n",
    "        break\n",
    "        \n",
    "video_capture.release()\n",
    "cv2.destoryAllWindows()"
   ]
  },
  {
   "cell_type": "code",
   "execution_count": null,
   "metadata": {},
   "outputs": [],
   "source": []
  },
  {
   "cell_type": "code",
   "execution_count": null,
   "metadata": {},
   "outputs": [],
   "source": []
  }
 ],
 "metadata": {
  "kernelspec": {
   "display_name": "Python 3",
   "language": "python",
   "name": "python3"
  },
  "language_info": {
   "codemirror_mode": {
    "name": "ipython",
    "version": 3
   },
   "file_extension": ".py",
   "mimetype": "text/x-python",
   "name": "python",
   "nbconvert_exporter": "python",
   "pygments_lexer": "ipython3",
   "version": "3.8.7"
  }
 },
 "nbformat": 4,
 "nbformat_minor": 4
}
